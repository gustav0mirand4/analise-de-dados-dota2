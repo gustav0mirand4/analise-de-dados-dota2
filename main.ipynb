{
 "cells": [
  {
   "cell_type": "code",
   "execution_count": 54,
   "metadata": {},
   "outputs": [
    {
     "data": {
      "text/html": [
       "<div>\n",
       "<style scoped>\n",
       "    .dataframe tbody tr th:only-of-type {\n",
       "        vertical-align: middle;\n",
       "    }\n",
       "\n",
       "    .dataframe tbody tr th {\n",
       "        vertical-align: top;\n",
       "    }\n",
       "\n",
       "    .dataframe thead th {\n",
       "        text-align: right;\n",
       "    }\n",
       "</style>\n",
       "<table border=\"1\" class=\"dataframe\">\n",
       "  <thead>\n",
       "    <tr style=\"text-align: right;\">\n",
       "      <th></th>\n",
       "      <th>Unnamed: 0</th>\n",
       "      <th>match_id</th>\n",
       "      <th>leagueid</th>\n",
       "      <th>radiant.team_id</th>\n",
       "      <th>radiant.name</th>\n",
       "      <th>radiant.tag</th>\n",
       "      <th>radiant.logo_url</th>\n",
       "      <th>dire.team_id</th>\n",
       "      <th>dire.name</th>\n",
       "      <th>dire.tag</th>\n",
       "      <th>dire.logo_url</th>\n",
       "    </tr>\n",
       "  </thead>\n",
       "  <tbody>\n",
       "    <tr>\n",
       "      <th>0</th>\n",
       "      <td>0</td>\n",
       "      <td>3655990173</td>\n",
       "      <td>9584</td>\n",
       "      <td>1520578</td>\n",
       "      <td>GGGGGGGG</td>\n",
       "      <td>SLTD</td>\n",
       "      <td>https://steamcdn-a.akamaihd.net/apps/dota2/ima...</td>\n",
       "      <td>2634810</td>\n",
       "      <td>KG.Luminous</td>\n",
       "      <td>KG.L</td>\n",
       "      <td>https://steamusercontent-a.akamaihd.net/ugc/77...</td>\n",
       "    </tr>\n",
       "    <tr>\n",
       "      <th>1</th>\n",
       "      <td>1</td>\n",
       "      <td>3655991306</td>\n",
       "      <td>9584</td>\n",
       "      <td>5017210</td>\n",
       "      <td>EHOME.immortal</td>\n",
       "      <td>EHOME.i</td>\n",
       "      <td>https://steamusercontent-a.akamaihd.net/ugc/93...</td>\n",
       "      <td>1951061</td>\n",
       "      <td>Newbee.Young</td>\n",
       "      <td>Newbee.Y</td>\n",
       "      <td>https://steamusercontent-a.akamaihd.net/ugc/94...</td>\n",
       "    </tr>\n",
       "    <tr>\n",
       "      <th>2</th>\n",
       "      <td>2</td>\n",
       "      <td>3656050304</td>\n",
       "      <td>9584</td>\n",
       "      <td>5017210</td>\n",
       "      <td>EHOME.immortal</td>\n",
       "      <td>EHOME.i</td>\n",
       "      <td>https://steamusercontent-a.akamaihd.net/ugc/93...</td>\n",
       "      <td>1951061</td>\n",
       "      <td>Newbee.Young</td>\n",
       "      <td>Newbee.Y</td>\n",
       "      <td>https://steamusercontent-a.akamaihd.net/ugc/94...</td>\n",
       "    </tr>\n",
       "  </tbody>\n",
       "</table>\n",
       "</div>"
      ],
      "text/plain": [
       "   Unnamed: 0    match_id  leagueid  radiant.team_id    radiant.name  \\\n",
       "0           0  3655990173      9584          1520578        GGGGGGGG   \n",
       "1           1  3655991306      9584          5017210  EHOME.immortal   \n",
       "2           2  3656050304      9584          5017210  EHOME.immortal   \n",
       "\n",
       "  radiant.tag                                   radiant.logo_url  \\\n",
       "0        SLTD  https://steamcdn-a.akamaihd.net/apps/dota2/ima...   \n",
       "1     EHOME.i  https://steamusercontent-a.akamaihd.net/ugc/93...   \n",
       "2     EHOME.i  https://steamusercontent-a.akamaihd.net/ugc/93...   \n",
       "\n",
       "   dire.team_id     dire.name  dire.tag  \\\n",
       "0       2634810   KG.Luminous      KG.L   \n",
       "1       1951061  Newbee.Young  Newbee.Y   \n",
       "2       1951061  Newbee.Young  Newbee.Y   \n",
       "\n",
       "                                       dire.logo_url  \n",
       "0  https://steamusercontent-a.akamaihd.net/ugc/77...  \n",
       "1  https://steamusercontent-a.akamaihd.net/ugc/94...  \n",
       "2  https://steamusercontent-a.akamaihd.net/ugc/94...  "
      ]
     },
     "execution_count": 54,
     "metadata": {},
     "output_type": "execute_result"
    }
   ],
   "source": [
    "import pandas as pd \n",
    "\n",
    "teams = pd.read_csv('2018/teams.csv/teams.csv')\n",
    "\n",
    "teams.head(3)"
   ]
  },
  {
   "cell_type": "code",
   "execution_count": null,
   "metadata": {},
   "outputs": [],
   "source": [
    "teams.columns.values"
   ]
  },
  {
   "cell_type": "code",
   "execution_count": 48,
   "metadata": {},
   "outputs": [
    {
     "data": {
      "text/html": [
       "<div>\n",
       "<style scoped>\n",
       "    .dataframe tbody tr th:only-of-type {\n",
       "        vertical-align: middle;\n",
       "    }\n",
       "\n",
       "    .dataframe tbody tr th {\n",
       "        vertical-align: top;\n",
       "    }\n",
       "\n",
       "    .dataframe thead th {\n",
       "        text-align: right;\n",
       "    }\n",
       "</style>\n",
       "<table border=\"1\" class=\"dataframe\">\n",
       "  <thead>\n",
       "    <tr style=\"text-align: right;\">\n",
       "      <th></th>\n",
       "      <th>Unnamed: 0</th>\n",
       "      <th>is_pick</th>\n",
       "      <th>hero_id</th>\n",
       "      <th>team</th>\n",
       "      <th>order</th>\n",
       "      <th>ord</th>\n",
       "      <th>match_id</th>\n",
       "      <th>leagueid</th>\n",
       "    </tr>\n",
       "  </thead>\n",
       "  <tbody>\n",
       "    <tr>\n",
       "      <th>0</th>\n",
       "      <td>0</td>\n",
       "      <td>False</td>\n",
       "      <td>78.0</td>\n",
       "      <td>0.0</td>\n",
       "      <td>0.0</td>\n",
       "      <td>0.0</td>\n",
       "      <td>3655990173</td>\n",
       "      <td>9584</td>\n",
       "    </tr>\n",
       "    <tr>\n",
       "      <th>1</th>\n",
       "      <td>1</td>\n",
       "      <td>False</td>\n",
       "      <td>3.0</td>\n",
       "      <td>1.0</td>\n",
       "      <td>1.0</td>\n",
       "      <td>1.0</td>\n",
       "      <td>3655990173</td>\n",
       "      <td>9584</td>\n",
       "    </tr>\n",
       "    <tr>\n",
       "      <th>2</th>\n",
       "      <td>2</td>\n",
       "      <td>False</td>\n",
       "      <td>47.0</td>\n",
       "      <td>0.0</td>\n",
       "      <td>2.0</td>\n",
       "      <td>2.0</td>\n",
       "      <td>3655990173</td>\n",
       "      <td>9584</td>\n",
       "    </tr>\n",
       "  </tbody>\n",
       "</table>\n",
       "</div>"
      ],
      "text/plain": [
       "   Unnamed: 0  is_pick  hero_id  team  order  ord    match_id  leagueid\n",
       "0           0    False     78.0   0.0    0.0  0.0  3655990173      9584\n",
       "1           1    False      3.0   1.0    1.0  1.0  3655990173      9584\n",
       "2           2    False     47.0   0.0    2.0  2.0  3655990173      9584"
      ]
     },
     "execution_count": 48,
     "metadata": {},
     "output_type": "execute_result"
    }
   ],
   "source": [
    "from pandas import DataFrame\n",
    "\n",
    "\n",
    "file = pd.read_csv('2018/picks_bans.csv/picks_bans.csv')\n",
    "\n",
    "picks = DataFrame(file)\n",
    "picks.head(3)"
   ]
  },
  {
   "cell_type": "code",
   "execution_count": 49,
   "metadata": {},
   "outputs": [
    {
     "data": {
      "text/plain": [
       "array(['Unnamed: 0', 'is_pick', 'hero_id', 'team', 'order', 'ord',\n",
       "       'match_id', 'leagueid'], dtype=object)"
      ]
     },
     "execution_count": 49,
     "metadata": {},
     "output_type": "execute_result"
    }
   ],
   "source": [
    "picks.columns.values"
   ]
  },
  {
   "cell_type": "code",
   "execution_count": 51,
   "metadata": {},
   "outputs": [
    {
     "data": {
      "text/html": [
       "<div>\n",
       "<style scoped>\n",
       "    .dataframe tbody tr th:only-of-type {\n",
       "        vertical-align: middle;\n",
       "    }\n",
       "\n",
       "    .dataframe tbody tr th {\n",
       "        vertical-align: top;\n",
       "    }\n",
       "\n",
       "    .dataframe thead th {\n",
       "        text-align: right;\n",
       "    }\n",
       "</style>\n",
       "<table border=\"1\" class=\"dataframe\">\n",
       "  <thead>\n",
       "    <tr style=\"text-align: right;\">\n",
       "      <th></th>\n",
       "      <th>is_pick</th>\n",
       "      <th>hero_id</th>\n",
       "      <th>team</th>\n",
       "      <th>match_id</th>\n",
       "      <th>leagueid</th>\n",
       "    </tr>\n",
       "  </thead>\n",
       "  <tbody>\n",
       "    <tr>\n",
       "      <th>0</th>\n",
       "      <td>False</td>\n",
       "      <td>78.0</td>\n",
       "      <td>0.0</td>\n",
       "      <td>3655990173</td>\n",
       "      <td>9584</td>\n",
       "    </tr>\n",
       "    <tr>\n",
       "      <th>1</th>\n",
       "      <td>False</td>\n",
       "      <td>3.0</td>\n",
       "      <td>1.0</td>\n",
       "      <td>3655990173</td>\n",
       "      <td>9584</td>\n",
       "    </tr>\n",
       "    <tr>\n",
       "      <th>2</th>\n",
       "      <td>False</td>\n",
       "      <td>47.0</td>\n",
       "      <td>0.0</td>\n",
       "      <td>3655990173</td>\n",
       "      <td>9584</td>\n",
       "    </tr>\n",
       "    <tr>\n",
       "      <th>3</th>\n",
       "      <td>False</td>\n",
       "      <td>51.0</td>\n",
       "      <td>1.0</td>\n",
       "      <td>3655990173</td>\n",
       "      <td>9584</td>\n",
       "    </tr>\n",
       "    <tr>\n",
       "      <th>4</th>\n",
       "      <td>False</td>\n",
       "      <td>103.0</td>\n",
       "      <td>0.0</td>\n",
       "      <td>3655990173</td>\n",
       "      <td>9584</td>\n",
       "    </tr>\n",
       "  </tbody>\n",
       "</table>\n",
       "</div>"
      ],
      "text/plain": [
       "   is_pick  hero_id  team    match_id  leagueid\n",
       "0    False     78.0   0.0  3655990173      9584\n",
       "1    False      3.0   1.0  3655990173      9584\n",
       "2    False     47.0   0.0  3655990173      9584\n",
       "3    False     51.0   1.0  3655990173      9584\n",
       "4    False    103.0   0.0  3655990173      9584"
      ]
     },
     "execution_count": 51,
     "metadata": {},
     "output_type": "execute_result"
    }
   ],
   "source": [
    "columns_picks = ['is_pick', 'hero_id', 'team',\n",
    "       'match_id', 'leagueid']\n",
    "\n",
    "columns_picks_select = picks.filter(items=columns_picks)\n",
    "columns_picks_select.head(5)"
   ]
  },
  {
   "cell_type": "code",
   "execution_count": 52,
   "metadata": {},
   "outputs": [
    {
     "data": {
      "text/plain": [
       "192934"
      ]
     },
     "execution_count": 52,
     "metadata": {},
     "output_type": "execute_result"
    }
   ],
   "source": [
    "columns_picks_select['hero_id'].count()"
   ]
  },
  {
   "cell_type": "code",
   "execution_count": 53,
   "metadata": {},
   "outputs": [
    {
     "data": {
      "text/plain": [
       "<Axes: >"
      ]
     },
     "execution_count": 53,
     "metadata": {},
     "output_type": "execute_result"
    },
    {
     "data": {
      "image/png": "[encoded data removed]",
      "text/plain": [
       "<Figure size 640x480 with 1 Axes>"
      ]
     },
     "metadata": {},
     "output_type": "display_data"
    }
   ],
   "source": [
    "columns_picks_select['hero_id'].hist(bins=20)"
   ]
  }
 ],
 "metadata": {
  "kernelspec": {
   "display_name": "library",
   "language": "python",
   "name": "python3"
  },
  "language_info": {
   "codemirror_mode": {
    "name": "ipython",
    "version": 3
   },
   "file_extension": ".py",
   "mimetype": "text/x-python",
   "name": "python",
   "nbconvert_exporter": "python",
   "pygments_lexer": "ipython3",
   "version": "3.10.12"
  }
 },
 "nbformat": 4,
 "nbformat_minor": 2
}
