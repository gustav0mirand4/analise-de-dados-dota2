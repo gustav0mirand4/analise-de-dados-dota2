{
 "cells": [
  {
   "cell_type": "code",
   "execution_count": 1,
   "metadata": {},
   "outputs": [
    {
     "name": "stdout",
     "output_type": "stream",
     "text": [
      "        Unnamed: 0  is_pick  hero_id  team  order   ord    match_id  leagueid\n",
      "0                0    False     78.0   0.0    0.0   0.0  3655990173      9584\n",
      "1                1    False      3.0   1.0    1.0   1.0  3655990173      9584\n",
      "2                2    False     47.0   0.0    2.0   2.0  3655990173      9584\n",
      "3                3    False     51.0   1.0    3.0   3.0  3655990173      9584\n",
      "4                4    False    103.0   0.0    4.0   4.0  3655990173      9584\n",
      "...            ...      ...      ...   ...    ...   ...         ...       ...\n",
      "192929      192929     True     93.0   0.0   17.0  17.0  4305446779     10219\n",
      "192930      192930    False     19.0   1.0   18.0  18.0  4305446779     10219\n",
      "192931      192931    False     22.0   0.0   19.0  19.0  4305446779     10219\n",
      "192932      192932     True     35.0   0.0   20.0  20.0  4305446779     10219\n",
      "192933      192933     True      4.0   1.0   21.0  21.0  4305446779     10219\n",
      "\n",
      "[192934 rows x 8 columns]\n"
     ]
    }
   ],
   "source": [
    "import pandas as pd\n",
    "\n",
    "picks = pd.read_csv(\"2018/picks_bans.csv/picks_bans.csv\")\n",
    "teams = pd.read_csv(\"2018/teams.csv/teams.csv\")\n",
    "\n",
    "#teams.head(100)\n",
    "data = pd.DataFrame(picks)\n",
    "print(data)"
   ]
  },
  {
   "cell_type": "code",
   "execution_count": null,
   "metadata": {},
   "outputs": [],
   "source": [
    "import pandas as pd\n",
    "\n",
    "teams = pd.read_csv(\"2018/teams.csv/teams.csv\")\n",
    "\n",
    "#teams.head(100)\n",
    "data = pd.DataFrame(teams)\n",
    "print(data)"
   ]
  }
 ],
 "metadata": {
  "kernelspec": {
   "display_name": "library",
   "language": "python",
   "name": "python3"
  },
  "language_info": {
   "codemirror_mode": {
    "name": "ipython",
    "version": 3
   },
   "file_extension": ".py",
   "mimetype": "text/x-python",
   "name": "python",
   "nbconvert_exporter": "python",
   "pygments_lexer": "ipython3",
   "version": "3.10.12"
  }
 },
 "nbformat": 4,
 "nbformat_minor": 2
}
